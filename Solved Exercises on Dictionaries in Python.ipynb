{
 "cells": [
  {
   "cell_type": "code",
   "execution_count": 3,
   "id": "3c6627d7-38d6-439b-8b07-abbcded84de3",
   "metadata": {},
   "outputs": [
    {
     "name": "stdout",
     "output_type": "stream",
     "text": [
      "{'name': 'Roheen Naeem', 'age': 18, 'city': 'Lahore', 'hoobies': 'reading'}\n"
     ]
    }
   ],
   "source": [
    "personal_information={                    # task a\n",
    "    \"name\":\"Roheen Naeem\",\n",
    "    \"age\": 18,\n",
    "    \"city\": \"Lahore\",\n",
    "    \"hoobies\":\"reading\"\n",
    "}\n",
    "print(personal_information)"
   ]
  },
  {
   "cell_type": "code",
   "execution_count": 20,
   "id": "2a56c85f-a2c8-41c5-aec2-a517b57eb8a9",
   "metadata": {},
   "outputs": [
    {
     "name": "stdout",
     "output_type": "stream",
     "text": [
      "{'you': 1, 'will': 1, 'become': 1, 'a': 1, 'great': 1, 'programmer': 1, 'one': 1, 'day': 1}\n"
     ]
    }
   ],
   "source": [
    "text = \"you will become a great programmer one day\"\n",
    "words= text.lower().split()\n",
    "word_count ={}\n",
    "for word in words:\n",
    "    word= word.strip(\".,!\")\n",
    "    word_count[word]=word_count.get(word,0)+1\n",
    "\n",
    "print(word_count)"
   ]
  },
  {
   "cell_type": "code",
   "execution_count": 28,
   "id": "ade20ba5-7eb7-44f2-9f0f-1db80ed99f4c",
   "metadata": {},
   "outputs": [
    {
     "name": "stdout",
     "output_type": "stream",
     "text": [
      "current inventory: {'apple': 47, 'banana': 134, 'cherry': 100, 'grape': 40}\n"
     ]
    }
   ],
   "source": [
    "inventory = {\n",
    "    \"apple\": 67,\n",
    "    \"banana\": 34,\n",
    "    \"cherry\":100\n",
    "}\n",
    "inventory[\"grape\"]= 40\n",
    "inventory[\"banana\"]+=100\n",
    "inventory[\"apple\"]-=20\n",
    "print(\"current inventory:\", inventory)"
   ]
  },
  {
   "cell_type": "code",
   "execution_count": 30,
   "id": "10268e25-5652-41ab-ad18-ff92ff7d8bc8",
   "metadata": {},
   "outputs": [
    {
     "name": "stdout",
     "output_type": "stream",
     "text": [
      "Most popular category: electronics\n"
     ]
    }
   ],
   "source": [
    "orders =[ \"electronics\",\"groceries\",\"books\",\"clothing\"]\n",
    "category_count = {}\n",
    "for category in orders:\n",
    "    if category in category_count:\n",
    "        category_count[category]+=1\n",
    "    else:\n",
    "        category_count[category]=1\n",
    "        most_popular=max(category_count,key=category_count.get)\n",
    "\n",
    "print(\"Most popular category:\",most_popular)\n",
    "    "
   ]
  },
  {
   "cell_type": "code",
   "execution_count": 44,
   "id": "274c4dcf-c304-4764-87b5-89dc91d0274f",
   "metadata": {},
   "outputs": [
    {
     "name": "stdout",
     "output_type": "stream",
     "text": [
      "Average grades: {'Ali': 64.0, 'Nabia': 84.33333333333333, 'Farheen': 82.0}\n"
     ]
    }
   ],
   "source": [
    "grades={\n",
    "    \"Ali\":[68,34,90],\n",
    "    \"Nabia\":[90,78,85],\n",
    "    \"Farheen\":[89,67,90]\n",
    "}\n",
    "average_grades={student:sum(scores)/ len(scores) for student,scores in grades.items()}\n",
    "print(\"Average grades:\",average_grades)\n",
    "    "
   ]
  },
  {
   "cell_type": "code",
   "execution_count": null,
   "id": "e51be99b-4f54-4395-a7a4-9da4694bd22d",
   "metadata": {},
   "outputs": [],
   "source": []
  }
 ],
 "metadata": {
  "kernelspec": {
   "display_name": "Python 3 (ipykernel)",
   "language": "python",
   "name": "python3"
  },
  "language_info": {
   "codemirror_mode": {
    "name": "ipython",
    "version": 3
   },
   "file_extension": ".py",
   "mimetype": "text/x-python",
   "name": "python",
   "nbconvert_exporter": "python",
   "pygments_lexer": "ipython3",
   "version": "3.12.7"
  }
 },
 "nbformat": 4,
 "nbformat_minor": 5
}
